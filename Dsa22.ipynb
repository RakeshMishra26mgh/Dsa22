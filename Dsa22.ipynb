{
  "nbformat": 4,
  "nbformat_minor": 0,
  "metadata": {
    "colab": {
      "provenance": [],
      "authorship_tag": "ABX9TyN6JF736TeLdJ9rFafEftCl",
      "include_colab_link": true
    },
    "kernelspec": {
      "name": "python3",
      "display_name": "Python 3"
    },
    "language_info": {
      "name": "python"
    }
  },
  "cells": [
    {
      "cell_type": "markdown",
      "metadata": {
        "id": "view-in-github",
        "colab_type": "text"
      },
      "source": [
        "<a href=\"https://colab.research.google.com/github/RakeshMishra26mgh/Dsa22/blob/main/Dsa22.ipynb\" target=\"_parent\"><img src=\"https://colab.research.google.com/assets/colab-badge.svg\" alt=\"Open In Colab\"/></a>"
      ]
    },
    {
      "cell_type": "markdown",
      "source": [
        "Answer 1:-"
      ],
      "metadata": {
        "id": "Skt19Lt3MBMB"
      }
    },
    {
      "cell_type": "code",
      "source": [
        "class Node:\n",
        "    def __init__(self, data):\n",
        "        self.data = data\n",
        "        self.left = None\n",
        "        self.right = None\n",
        "\n",
        "def BinaryTree2DoubleLinkedList(root):\n",
        "    def helper(root):\n",
        "        nonlocal prev\n",
        "        if root is None:\n",
        "            return\n",
        "        helper(root.left)\n",
        "        if prev is None:\n",
        "            head[0] = root\n",
        "        else:\n",
        "            root.left = prev\n",
        "            prev.right = root\n",
        "        prev = root\n",
        "        helper(root.right)\n",
        "\n",
        "    prev, head = None, [None]\n",
        "    helper(root)\n",
        "    return head[0]\n",
        "\n",
        "def insert(temp, data):\n",
        "    if not temp:\n",
        "        root = Node(data)\n",
        "        return\n",
        "    q = []\n",
        "    q.append(temp)\n",
        "    while len(q):\n",
        "        temp = q[0]\n",
        "        q.pop(0)\n",
        "        if not temp.left:\n",
        "            temp.left = Node(data)\n",
        "            break\n",
        "        else:\n",
        "            q.append(temp.left)\n",
        "        if not temp.right:\n",
        "            temp.right = Node(data)\n",
        "            break\n",
        "        else:\n",
        "            q.append(temp.right)\n",
        "\n",
        "def make_tree(elements):\n",
        "    tree = Node(elements[0])\n",
        "    for element in elements[1:]:\n",
        "        insert(tree, element)\n",
        "    return tree\n",
        "\n",
        "def inorder(temp):\n",
        "    if not temp:\n",
        "        return\n",
        "    inorder(temp.left)\n",
        "    print(temp.data, end=\" \")\n",
        "    inorder(temp.right)\n",
        "\n",
        "if __name__ == '__main__':\n",
        "    elements = list(map(int, input(\"Enter the tree elements: \").split()))\n",
        "    tree = make_tree(elements)\n",
        "    print(\"Inorder Traversal of the tree: \", end=\"\")\n",
        "    inorder(tree)\n",
        "    print()\n",
        "    head = BinaryTree2DoubleLinkedList(tree)\n",
        "    print(\"Doubly Linked List: \", end=\"\")\n",
        "    while head:\n",
        "        print(head.data, end=\" \")\n",
        "        head = head.right\n"
      ],
      "metadata": {
        "id": "Ip2XRifCYmI4"
      },
      "execution_count": null,
      "outputs": []
    },
    {
      "cell_type": "markdown",
      "source": [
        "Answer 2:-"
      ],
      "metadata": {
        "id": "IjyEHG9IMNZh"
      }
    },
    {
      "cell_type": "code",
      "source": [
        "class Node:\n",
        "   def __init__(self, data):\n",
        "        self.data = data\n",
        "        self.left = None\n",
        "        self.right = None\n",
        "\n",
        "def flip_tree(root):\n",
        "    if root is None or (root.left is None and root.right is None):\n",
        "        return root\n",
        "    new_root = flip_tree(root.left)\n",
        "    root.left.right = root\n",
        "    root.left.left = root.right\n",
        "    root.left = None\n",
        "    root.right = None\n",
        "    return new_root\n",
        "\n",
        "def print_inorder(root):\n",
        "    if root:\n",
        "        print_inorder(root.left)\n",
        "        print(root.data, end=\" \")\n",
        "        print_inorder(root.right)\n",
        "\n",
        "def insert_bt(root, data):\n",
        "    if root is None:\n",
        "        return Node(data)\n",
        "    queue = []\n",
        "    queue.append(root)\n",
        "    while queue:\n",
        "        node = queue.pop(0)\n",
        "        if node.left:\n",
        "            queue.append(node.left)\n",
        "        else:\n",
        "            node.left = Node(data)\n",
        "            break\n",
        "        if node.right:\n",
        "            queue.append(node.right)\n",
        "        else:\n",
        "            node.right = Node(data)\n",
        "            break\n",
        "    return root\n",
        "\n",
        "def input_bt():\n",
        "    root = None\n",
        "    print(\"Enter the data for the nodes of the BT in level order (enter -1 to stop):\")\n",
        "\n",
        "    while True:\n",
        "        data = int(input())\n",
        "        if data == -1:\n",
        "            break\n",
        "\n",
        "        root = insert_bt(root, data)\n",
        "\n",
        "    return root\n",
        "\n",
        "root = input_bt()\n",
        "print(\"Inorder of original tree:\")\n",
        "print_inorder(root)\n",
        "print()\n",
        "new_root = flip_tree(root)\n",
        "print(\"Inorder of flipped tree:\")\n",
        "print_inorder(new_root)\n",
        "print()\n"
      ],
      "metadata": {
        "id": "lhEY70DXMQHR"
      },
      "execution_count": null,
      "outputs": []
    },
    {
      "cell_type": "markdown",
      "source": [
        "Answer 3:-"
      ],
      "metadata": {
        "id": "QIZUpUJcN6Tp"
      }
    },
    {
      "cell_type": "code",
      "source": [
        "class Node:\n",
        "    def __init__(self, data):\n",
        "        self.data = data\n",
        "        self.left = None\n",
        "        self.right = None\n",
        "\n",
        "def print_paths(root):\n",
        "    if root is None:\n",
        "        return\n",
        "\n",
        "    node_stack = []\n",
        "    path_stack = []\n",
        "\n",
        "    node_stack.append(root)\n",
        "    path_stack.append([])\n",
        "\n",
        "    while node_stack:\n",
        "        node = node_stack.pop()\n",
        "        path = path_stack.pop()\n",
        "\n",
        "        path.append(node.data)\n",
        "\n",
        "        if node.left is None and node.right is None:\n",
        "            print(path)\n",
        "        if node.right:\n",
        "            node_stack.append(node.right)\n",
        "            path_stack.append(path.copy())\n",
        "\n",
        "        if node.left:\n",
        "            node_stack.append(node.left)\n",
        "            path_stack.append(path.copy())\n",
        "\n",
        "root = Node(6)\n",
        "root.left = Node(3)\n",
        "root.right = Node(5)\n",
        "root.left.left = Node(2)\n",
        "root.left.right = Node(5)\n",
        "root.right.right = Node(4)\n",
        "root.left.right.left = Node(7)\n",
        "root.left.right.right = Node(4)\n",
        "\n",
        "print(\"The root-to-leaf paths are:\")\n",
        "print_paths(root)\n"
      ],
      "metadata": {
        "id": "sNUed6r-O2ig"
      },
      "execution_count": null,
      "outputs": []
    },
    {
      "cell_type": "markdown",
      "source": [
        "Answer 4:-"
      ],
      "metadata": {
        "id": "fRjAfmYAO62R"
      }
    },
    {
      "cell_type": "code",
      "source": [
        "def check_traversals(preorder, inorder, postorder):\n",
        "    if not preorder and not inorder and not postorder:\n",
        "        return True\n",
        "    if len(preorder) != len(inorder) or len(inorder) != len(postorder):\n",
        "        return False\n",
        "    root = preorder[0]\n",
        "    if root != postorder[-1]:\n",
        "        return False\n",
        "    index = -1\n",
        "    for i in range(len(inorder)):\n",
        "        if inorder[i] == root:\n",
        "            index = i\n",
        "            break\n",
        "    if index == -1:\n",
        "        return False\n",
        "    left = check_traversals(preorder[1:index+1], inorder[:index], postorder[:index])\n",
        "    right = check_traversals(preorder[index+1:], inorder[index+1:], postorder[index:-1])\n",
        "    return left and right\n",
        "\n",
        "def input_list():\n",
        "    lst = []\n",
        "    print(\"Enter the elements of the list (enter -1 to stop):\")\n",
        "\n",
        "    while True:\n",
        "        element = int(input())\n",
        "\n",
        "        if element == -1:\n",
        "            break\n",
        "\n",
        "        lst.append(element)\n",
        "\n",
        "    return lst\n",
        "\n",
        "print(\"Enter the inorder traversal:\")\n",
        "inorder = input_list()\n",
        "print(\"Enter the preorder traversal:\")\n",
        "preorder = input_list()\n",
        "print(\"Enter the postorder traversal:\")\n",
        "postorder = input_list()\n",
        "\n",
        "if check_traversals(preorder, inorder, postorder):\n",
        "    print(\"Yes\")\n",
        "else:\n",
        "    print(\"No\")\n"
      ],
      "metadata": {
        "id": "0EiFb_CnO88h"
      },
      "execution_count": null,
      "outputs": []
    }
  ]
}